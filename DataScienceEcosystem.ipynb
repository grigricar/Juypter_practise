{
 "cells": [
  {
   "cell_type": "markdown",
   "id": "777fde88-5319-4550-9479-238120467a65",
   "metadata": {},
   "source": [
    "# Data Science Tools and Ecosystem"
   ]
  },
  {
   "cell_type": "markdown",
   "id": "ba5e13db-8bac-486a-aeb4-13230084080d",
   "metadata": {},
   "source": [
    "Some of the popular languages that Data Scientists use are:\n",
    "1. Python\n",
    "2. R\n",
    "3. Julia"
   ]
  },
  {
   "cell_type": "markdown",
   "id": "0b12a8d1-e751-4629-837e-62adc8c33c03",
   "metadata": {},
   "source": [
    "Some of the commonly used libraries used by Data Scientists include:\n",
    "\n",
    "1. Numpy\n",
    "2. Pandas\n",
    "3. Matplotlib"
   ]
  },
  {
   "cell_type": "markdown",
   "id": "98c00467-8dcc-420c-ad6f-ed7c31348d16",
   "metadata": {},
   "source": [
    "|Data Science Tools|\n",
    "|----------------|\n",
    "|Jupyter Notebooks|\n",
    "|RStudio |\n",
    "|Google Notebook|\n"
   ]
  },
  {
   "cell_type": "markdown",
   "id": "e748aebd-4893-4d2b-8707-d4930997666d",
   "metadata": {},
   "source": [
    "### Below are a few examples of evaluating arithmetic expressions in Python"
   ]
  },
  {
   "cell_type": "code",
   "execution_count": 1,
   "id": "90fe43d2-8192-4fed-b942-d5adeda809b8",
   "metadata": {
    "tags": []
   },
   "outputs": [
    {
     "data": {
      "text/plain": [
       "17"
      ]
     },
     "execution_count": 1,
     "metadata": {},
     "output_type": "execute_result"
    }
   ],
   "source": [
    "(3*4)+5"
   ]
  },
  {
   "cell_type": "markdown",
   "id": "5d42cdf1-2bcd-419b-81a0-34e0f0d04ca8",
   "metadata": {},
   "source": [
    "This will convert 200 minutes to hours by dividing by 60."
   ]
  },
  {
   "cell_type": "code",
   "execution_count": 2,
   "id": "cdaf5d9a-133a-4d4a-9620-e26266d99eab",
   "metadata": {
    "tags": []
   },
   "outputs": [
    {
     "data": {
      "text/plain": [
       "3.3333333333333335"
      ]
     },
     "execution_count": 2,
     "metadata": {},
     "output_type": "execute_result"
    }
   ],
   "source": [
    "200/60"
   ]
  },
  {
   "cell_type": "markdown",
   "id": "8cc3673e-0f11-4369-b594-83a32c6ddb48",
   "metadata": {},
   "source": [
    "__Objectives:__\n",
    "\n",
    "- List popular languages Data Scientists use\n",
    "- List commonly used libraries used by Data Scientists\n",
    "- Use tables in markdown in Jupyter Notebook\n",
    "- Use basic arithmetic in Python\n",
    "\n"
   ]
  },
  {
   "cell_type": "markdown",
   "id": "97930fc3-5384-4ca7-b284-720552fa0564",
   "metadata": {},
   "source": [
    "## Author\n",
    "Greg Carter"
   ]
  },
  {
   "cell_type": "code",
   "execution_count": null,
   "id": "b4813379-efe7-4c60-8054-16a05b499eac",
   "metadata": {},
   "outputs": [],
   "source": []
  }
 ],
 "metadata": {
  "kernelspec": {
   "display_name": "Python 3 (ipykernel)",
   "language": "python",
   "name": "python3"
  },
  "language_info": {
   "codemirror_mode": {
    "name": "ipython",
    "version": 3
   },
   "file_extension": ".py",
   "mimetype": "text/x-python",
   "name": "python",
   "nbconvert_exporter": "python",
   "pygments_lexer": "ipython3",
   "version": "3.11.4"
  }
 },
 "nbformat": 4,
 "nbformat_minor": 5
}
